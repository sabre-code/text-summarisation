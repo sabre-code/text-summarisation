{
 "cells": [
  {
   "cell_type": "code",
   "execution_count": 1,
   "metadata": {},
   "outputs": [
    {
     "name": "stderr",
     "output_type": "stream",
     "text": [
      "C:\\Users\\Admin\\AppData\\Roaming\\Python\\Python311\\site-packages\\tqdm\\auto.py:21: TqdmWarning: IProgress not found. Please update jupyter and ipywidgets. See https://ipywidgets.readthedocs.io/en/stable/user_install.html\n",
      "  from .autonotebook import tqdm as notebook_tqdm\n",
      "Downloading builder script: 100%|██████████| 8.33k/8.33k [00:00<00:00, 8.34MB/s]\n",
      "Downloading metadata: 100%|██████████| 9.88k/9.88k [00:00<00:00, 4.95MB/s]\n",
      "Downloading readme: 100%|██████████| 15.1k/15.1k [00:00<00:00, 7.56MB/s]\n",
      "Downloading data: 100%|██████████| 159M/159M [00:34<00:00, 4.66MB/s]\n",
      "Downloading data: 100%|██████████| 376M/376M [01:17<00:00, 4.86MB/s]]\n",
      "Downloading data: 46.4MB [00:03, 12.3MB/s]/5 [02:01<03:13, 64.35s/it]\n",
      "Downloading data: 2.43MB [00:00, 5.87MB/s]/5 [02:12<01:20, 40.08s/it]\n",
      "Downloading data: 2.11MB [00:00, 4.63MB/s]/5 [02:15<00:25, 25.55s/it]\n",
      "Downloading data files: 100%|██████████| 5/5 [02:19<00:00, 27.81s/it]\n",
      "Generating train split: 287113 examples [04:06, 1162.53 examples/s]\n",
      "Generating validation split: 13368 examples [02:21, 94.29 examples/s]  \n",
      "Generating test split: 11490 examples [01:58, 96.95 examples/s]  \n"
     ]
    }
   ],
   "source": [
    "from datasets import load_dataset\n",
    "\n",
    "dataset = load_dataset(\"cnn_dailymail\", version='3.0.0')"
   ]
  },
  {
   "cell_type": "code",
   "execution_count": null,
   "metadata": {},
   "outputs": [],
   "source": []
  }
 ],
 "metadata": {
  "kernelspec": {
   "display_name": "ml",
   "language": "python",
   "name": "python3"
  },
  "language_info": {
   "codemirror_mode": {
    "name": "ipython",
    "version": 3
   },
   "file_extension": ".py",
   "mimetype": "text/x-python",
   "name": "python",
   "nbconvert_exporter": "python",
   "pygments_lexer": "ipython3",
   "version": "3.11.4"
  }
 },
 "nbformat": 4,
 "nbformat_minor": 2
}
